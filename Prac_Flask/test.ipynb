{
 "cells": [
  {
   "cell_type": "code",
   "execution_count": 2,
   "metadata": {},
   "outputs": [
    {
     "name": "stdout",
     "output_type": "stream",
     "text": [
      "8\n"
     ]
    }
   ],
   "source": [
    "import pandas as pd\n",
    "\n",
    "idx = len(pd.read_csv(\"E:/Prac_Flask/database.csv\"))\n",
    "print(idx)"
   ]
  },
  {
   "cell_type": "code",
   "execution_count": 5,
   "metadata": {},
   "outputs": [
    {
     "name": "stdout",
     "output_type": "stream",
     "text": [
      "0\n",
      "1\n",
      "2\n",
      "3\n",
      "4\n",
      "5\n",
      "6\n",
      "7\n",
      "[[0, '영통구', True, '식기세척기'], [1, '용인시 처인구', False, '세탁기'], [2, '매탄동', False, '가스레인지'], [3, '권선구', False, '의류건조기'], [4, '용인시 기흥구', True, '식탁'], [5, '화성시 동탄구', True, '식탁'], [6, '영통구 영통동', True, '코타츠'], [7, '영통구 영통동', True, '코타츠']]\n"
     ]
    }
   ],
   "source": [
    "house_list = []\n",
    "df = pd.read_csv(\"E:/Prac_Flask/database.csv\")\n",
    "for i in range(len(df)):\n",
    "  house_list.append(df.iloc[i].tolist())\n",
    "  print(i)\n",
    "print(house_list)"
   ]
  },
  {
   "cell_type": "code",
   "execution_count": 6,
   "metadata": {},
   "outputs": [
    {
     "name": "stdout",
     "output_type": "stream",
     "text": [
      "7\n"
     ]
    }
   ],
   "source": [
    "df = pd.read_csv(\"E:/Prac_Flask/database.csv\")\n",
    "idx = len(df)-1\n",
    "print(idx)"
   ]
  },
  {
   "cell_type": "code",
   "execution_count": 9,
   "metadata": {},
   "outputs": [
    {
     "name": "stdout",
     "output_type": "stream",
     "text": [
      "index             5\n",
      "location    화성시 동탄구\n",
      "cleaness       True\n",
      "built_in         식탁\n",
      "Name: 5, dtype: object\n"
     ]
    }
   ],
   "source": [
    "house_info = df.iloc[idx-2]\n",
    "print(house_info)"
   ]
  },
  {
   "cell_type": "code",
   "execution_count": null,
   "metadata": {},
   "outputs": [],
   "source": []
  }
 ],
 "metadata": {
  "kernelspec": {
   "display_name": "Python 3.8.10 64-bit",
   "language": "python",
   "name": "python3"
  },
  "language_info": {
   "codemirror_mode": {
    "name": "ipython",
    "version": 3
   },
   "file_extension": ".py",
   "mimetype": "text/x-python",
   "name": "python",
   "nbconvert_exporter": "python",
   "pygments_lexer": "ipython3",
   "version": "3.8.10"
  },
  "orig_nbformat": 4,
  "vscode": {
   "interpreter": {
    "hash": "e0144baad0ecee903f108a3e46e51ceadd7da3fc904cfa79747d813b61464b4e"
   }
  }
 },
 "nbformat": 4,
 "nbformat_minor": 2
}
